{
 "cells": [
  {
   "cell_type": "markdown",
   "id": "cf9b2c5e",
   "metadata": {},
   "source": [
    "# Note\n",
    "  -  Instructions have been included for each segment. You do not have to follow them exactly, but they are included to help you think through the steps."
   ]
  },
  {
   "cell_type": "code",
   "execution_count": 1,
   "id": "b9fc69e8",
   "metadata": {},
   "outputs": [],
   "source": [
    "import pandas as pd\n",
    "import numpy as np\n",
    "import os\n",
    "csv_file = \"purchase_data.csv\""
   ]
  },
  {
   "cell_type": "code",
   "execution_count": 2,
   "id": "8371870b",
   "metadata": {},
   "outputs": [],
   "source": [
    "# Read csv File into Pandas data frame\n",
    "purchase_data = pd.read_csv(csv_file)"
   ]
  },
  {
   "cell_type": "markdown",
   "id": "e57a0a23",
   "metadata": {},
   "source": [
    "# Player count\n",
    " - Display the total number of players"
   ]
  },
  {
   "cell_type": "code",
   "execution_count": 3,
   "id": "8a7e6202",
   "metadata": {},
   "outputs": [
    {
     "data": {
      "text/html": [
       "<div>\n",
       "<style scoped>\n",
       "    .dataframe tbody tr th:only-of-type {\n",
       "        vertical-align: middle;\n",
       "    }\n",
       "\n",
       "    .dataframe tbody tr th {\n",
       "        vertical-align: top;\n",
       "    }\n",
       "\n",
       "    .dataframe thead th {\n",
       "        text-align: right;\n",
       "    }\n",
       "</style>\n",
       "<table border=\"1\" class=\"dataframe\">\n",
       "  <thead>\n",
       "    <tr style=\"text-align: right;\">\n",
       "      <th></th>\n",
       "      <th>Total Players</th>\n",
       "    </tr>\n",
       "  </thead>\n",
       "  <tbody>\n",
       "    <tr>\n",
       "      <th>0</th>\n",
       "      <td>576</td>\n",
       "    </tr>\n",
       "  </tbody>\n",
       "</table>\n",
       "</div>"
      ],
      "text/plain": [
       "   Total Players\n",
       "0            576"
      ]
     },
     "execution_count": 3,
     "metadata": {},
     "output_type": "execute_result"
    }
   ],
   "source": [
    "# Displaying the total number of players\n",
    "\n",
    "Total_Players = len(purchase_data[\"SN\"].unique())\n",
    "tot_players_dict={\"Total Players\":[Total_Players]}\n",
    "tot_plyr_df = pd.DataFrame.from_dict(tot_players_dict, orient='columns')\n",
    "tot_plyr_df\n",
    "\n"
   ]
  },
  {
   "cell_type": "markdown",
   "id": "1f1f6c6d",
   "metadata": {},
   "source": [
    "# Purchasing Analysis (Total)\n",
    "- Run basic calculations to obtain number of unique items, average price, etc.\n",
    "- Create a summary data frame to hold the results\n",
    "- Optional: give the displayed data cleaner formatting\n",
    "- Display the summary data frame\n"
   ]
  },
  {
   "cell_type": "code",
   "execution_count": 4,
   "id": "8703fd03",
   "metadata": {},
   "outputs": [
    {
     "data": {
      "text/html": [
       "<div>\n",
       "<style scoped>\n",
       "    .dataframe tbody tr th:only-of-type {\n",
       "        vertical-align: middle;\n",
       "    }\n",
       "\n",
       "    .dataframe tbody tr th {\n",
       "        vertical-align: top;\n",
       "    }\n",
       "\n",
       "    .dataframe thead th {\n",
       "        text-align: right;\n",
       "    }\n",
       "</style>\n",
       "<table border=\"1\" class=\"dataframe\">\n",
       "  <thead>\n",
       "    <tr style=\"text-align: right;\">\n",
       "      <th></th>\n",
       "      <th>Unique_items</th>\n",
       "      <th>Number_of_purchases</th>\n",
       "      <th>Average_price</th>\n",
       "      <th>TotalRevenue</th>\n",
       "    </tr>\n",
       "  </thead>\n",
       "  <tbody>\n",
       "    <tr>\n",
       "      <th>0</th>\n",
       "      <td>179</td>\n",
       "      <td>780</td>\n",
       "      <td>3.050987</td>\n",
       "      <td>2379.77</td>\n",
       "    </tr>\n",
       "  </tbody>\n",
       "</table>\n",
       "</div>"
      ],
      "text/plain": [
       "   Unique_items  Number_of_purchases  Average_price  TotalRevenue\n",
       "0           179                  780       3.050987       2379.77"
      ]
     },
     "execution_count": 4,
     "metadata": {},
     "output_type": "execute_result"
    }
   ],
   "source": [
    "#Number of Unique Items: Calculated as the number of unique values in the Item ID column from heroes_df dataframe.\n",
    "\n",
    "Unique_items = len(purchase_data[\"Item ID\"].unique())\n",
    "\n",
    "#Average Purchase Price: Calculated as the mean of all values in Price column from heroes_df dataframe.\n",
    "\n",
    "Average_price = purchase_data[\"Price\"].mean()\n",
    "\n",
    "#Total Number of Purchases: Calculated as the total number of records in heroes_df dataframe.\n",
    "\n",
    "Number_of_purchases = purchase_data[\"Purchase ID\"].count()\n",
    "\n",
    "#Total Revenue: Calculated as the sum of all values in Price column from heroes_df dataframe.\n",
    "TotalRevenue = sum(purchase_data[\"Price\"])\n",
    "\n",
    "\n",
    "\n",
    "#Making a blank dataframe\n",
    "\n",
    "summarytable_df = pd.DataFrame()\n",
    "summarytable_df[\"Unique_items\"] = [Unique_items]\n",
    "summarytable_df[\"Number_of_purchases\"] = [Number_of_purchases]\n",
    "summarytable_df[\"Average_price\"] = [Average_price]\n",
    "summarytable_df[\"TotalRevenue\"] = [TotalRevenue ]\n",
    "\n",
    "summarytable_df"
   ]
  },
  {
   "cell_type": "markdown",
   "id": "6b82f5a8",
   "metadata": {},
   "source": [
    "# Gender Demographics\n",
    " - Percentage and Count of Male Players\n",
    "\n",
    " - Percentage and Count of Female Players\n",
    "\n",
    " - Percentage and Count of Other / Non-Disclosed"
   ]
  },
  {
   "cell_type": "code",
   "execution_count": 5,
   "id": "eb3551de",
   "metadata": {},
   "outputs": [
    {
     "data": {
      "text/plain": [
       "Male                     652\n",
       "Female                   113\n",
       "Other / Non-Disclosed     15\n",
       "Name: Gender, dtype: int64"
      ]
     },
     "execution_count": 5,
     "metadata": {},
     "output_type": "execute_result"
    }
   ],
   "source": [
    "#Gender Demographics\n",
    "\n",
    " \n",
    "Count_players_gender = purchase_data[\"Gender\"].value_counts()\n",
    "Count_players_gender"
   ]
  },
  {
   "cell_type": "code",
   "execution_count": 6,
   "id": "041075ad",
   "metadata": {},
   "outputs": [
    {
     "data": {
      "text/plain": [
       "780"
      ]
     },
     "execution_count": 6,
     "metadata": {},
     "output_type": "execute_result"
    }
   ],
   "source": [
    "#Total count of players\n",
    "\n",
    "Count_total_players = len(purchase_data[\"Gender\"])\n",
    "Count_total_players "
   ]
  },
  {
   "cell_type": "code",
   "execution_count": 7,
   "id": "3bf0a8c8",
   "metadata": {},
   "outputs": [
    {
     "data": {
      "text/plain": [
       "652"
      ]
     },
     "execution_count": 7,
     "metadata": {},
     "output_type": "execute_result"
    }
   ],
   "source": [
    "#Count of Male Players\n",
    "\n",
    "Count_Male_players = len(purchase_data[purchase_data['Gender']== \"Male\"])\n",
    "\n",
    "Count_Male_players"
   ]
  },
  {
   "cell_type": "code",
   "execution_count": 8,
   "id": "3deafb74",
   "metadata": {},
   "outputs": [
    {
     "data": {
      "text/plain": [
       "113"
      ]
     },
     "execution_count": 8,
     "metadata": {},
     "output_type": "execute_result"
    }
   ],
   "source": [
    "#Count of Female Players\n",
    "\n",
    "Count_Female_players = len(purchase_data[purchase_data['Gender']== \"Female\"])\n",
    "\n",
    "Count_Female_players"
   ]
  },
  {
   "cell_type": "code",
   "execution_count": 9,
   "id": "0fc6791e",
   "metadata": {},
   "outputs": [
    {
     "data": {
      "text/plain": [
       "84"
      ]
     },
     "execution_count": 9,
     "metadata": {},
     "output_type": "execute_result"
    }
   ],
   "source": [
    "# Percentage of male players\n",
    "\n",
    "male_player_pct = round((Count_Male_players)/(Count_total_players)*100)\n",
    "\n",
    "male_player_pct"
   ]
  },
  {
   "cell_type": "code",
   "execution_count": 10,
   "id": "2565f6bf",
   "metadata": {},
   "outputs": [
    {
     "data": {
      "text/plain": [
       "14"
      ]
     },
     "execution_count": 10,
     "metadata": {},
     "output_type": "execute_result"
    }
   ],
   "source": [
    "# Percentage of Female players\n",
    "\n",
    "Female_player_pct = round((Count_Female_players)/(Count_total_players)*100)\n",
    "\n",
    "Female_player_pct"
   ]
  },
  {
   "cell_type": "code",
   "execution_count": 11,
   "id": "dd97fc1d",
   "metadata": {},
   "outputs": [
    {
     "data": {
      "text/plain": [
       "15"
      ]
     },
     "execution_count": 11,
     "metadata": {},
     "output_type": "execute_result"
    }
   ],
   "source": [
    "#Count of Other / Non-Disclosed players\n",
    "\n",
    "Count_Other_players =  len(purchase_data[purchase_data['Gender']== \"Other / Non-Disclosed\"])\n",
    "\n",
    "Count_Other_players"
   ]
  },
  {
   "cell_type": "code",
   "execution_count": 12,
   "id": "3f917526",
   "metadata": {},
   "outputs": [
    {
     "data": {
      "text/plain": [
       "2"
      ]
     },
     "execution_count": 12,
     "metadata": {},
     "output_type": "execute_result"
    }
   ],
   "source": [
    "# Percentage of Other / Non-Disclosed players\n",
    "\n",
    "Other_player_pct = round((Count_Other_players)/(Count_total_players)*100)\n",
    "\n",
    "Other_player_pct"
   ]
  },
  {
   "cell_type": "code",
   "execution_count": 13,
   "id": "7fe47084",
   "metadata": {},
   "outputs": [
    {
     "data": {
      "text/html": [
       "<div>\n",
       "<style scoped>\n",
       "    .dataframe tbody tr th:only-of-type {\n",
       "        vertical-align: middle;\n",
       "    }\n",
       "\n",
       "    .dataframe tbody tr th {\n",
       "        vertical-align: top;\n",
       "    }\n",
       "\n",
       "    .dataframe thead th {\n",
       "        text-align: right;\n",
       "    }\n",
       "</style>\n",
       "<table border=\"1\" class=\"dataframe\">\n",
       "  <thead>\n",
       "    <tr style=\"text-align: right;\">\n",
       "      <th></th>\n",
       "      <th>Count_Male_players</th>\n",
       "      <th>Count_Female_players</th>\n",
       "      <th>Count_Other_players</th>\n",
       "      <th>Count_total_players</th>\n",
       "      <th>Male_player_pct</th>\n",
       "      <th>Female_player_pct</th>\n",
       "      <th>Other_player_pct</th>\n",
       "    </tr>\n",
       "  </thead>\n",
       "  <tbody>\n",
       "    <tr>\n",
       "      <th>0</th>\n",
       "      <td>652</td>\n",
       "      <td>113</td>\n",
       "      <td>15</td>\n",
       "      <td>780</td>\n",
       "      <td>84</td>\n",
       "      <td>14</td>\n",
       "      <td>2</td>\n",
       "    </tr>\n",
       "  </tbody>\n",
       "</table>\n",
       "</div>"
      ],
      "text/plain": [
       "   Count_Male_players  Count_Female_players  Count_Other_players  \\\n",
       "0                 652                   113                   15   \n",
       "\n",
       "   Count_total_players  Male_player_pct  Female_player_pct  Other_player_pct  \n",
       "0                  780               84                 14                 2  "
      ]
     },
     "execution_count": 13,
     "metadata": {},
     "output_type": "execute_result"
    }
   ],
   "source": [
    "# Summary of Count and percentage of Players by Gender\n",
    "\n",
    "player_gender_summary_df = pd.DataFrame()\n",
    "\n",
    "player_gender_summary_df[\"Count_Male_players\"] = [Count_Male_players]\n",
    "player_gender_summary_df[\"Count_Female_players\"] = [Count_Female_players]\n",
    "player_gender_summary_df[\"Count_Other_players\"] = [Count_Other_players]\n",
    "player_gender_summary_df[\"Count_total_players\"] = [Count_total_players]\n",
    "player_gender_summary_df[\"Male_player_pct\"] =  [male_player_pct]\n",
    "player_gender_summary_df[\"Female_player_pct\"] = [Female_player_pct]\n",
    "player_gender_summary_df[\"Other_player_pct\"]  = [Other_player_pct]\n",
    "\n",
    "player_gender_summary_df.head()"
   ]
  },
  {
   "cell_type": "markdown",
   "id": "cde709c3",
   "metadata": {},
   "source": [
    "#  Purchasing Analysis (Gender)\n",
    " - Run basic calculations to obtain purchase count, avg. purchase price, avg. purchase total per person etc. by gender\n",
    "\n",
    " - Create a summary data frame to hold the results\n",
    "\n",
    " - Optional: give the displayed data cleaner formatting\n",
    "\n",
    " - Display the summary data frame"
   ]
  },
  {
   "cell_type": "code",
   "execution_count": 14,
   "id": "332b5d65",
   "metadata": {},
   "outputs": [
    {
     "name": "stdout",
     "output_type": "stream",
     "text": [
      "Male_purchase_count 652\n",
      "Female_purchase_count 113\n",
      "Other_purchase_count 15\n"
     ]
    }
   ],
   "source": [
    "# Purchase Count by gender\n",
    "\n",
    "Male_purchase_count = len(purchase_data[purchase_data['Gender']== \"Male\"])\n",
    "Female_purchase_count = len(purchase_data[purchase_data['Gender']== \"Female\"])\n",
    "Other_purchase_count = len(purchase_data[purchase_data['Gender']== \"Other / Non-Disclosed\"])\n",
    "\n",
    "\n",
    "print(\"Male_purchase_count\", Male_purchase_count)\n",
    "\n",
    "print(\"Female_purchase_count\", Female_purchase_count)\n",
    "\n",
    "print(\"Other_purchase_count\", Other_purchase_count)"
   ]
  },
  {
   "cell_type": "code",
   "execution_count": 15,
   "id": "ce04eb32",
   "metadata": {},
   "outputs": [
    {
     "data": {
      "text/html": [
       "<div>\n",
       "<style scoped>\n",
       "    .dataframe tbody tr th:only-of-type {\n",
       "        vertical-align: middle;\n",
       "    }\n",
       "\n",
       "    .dataframe tbody tr th {\n",
       "        vertical-align: top;\n",
       "    }\n",
       "\n",
       "    .dataframe thead th {\n",
       "        text-align: right;\n",
       "    }\n",
       "</style>\n",
       "<table border=\"1\" class=\"dataframe\">\n",
       "  <thead>\n",
       "    <tr style=\"text-align: right;\">\n",
       "      <th></th>\n",
       "      <th>Male_purchase_count</th>\n",
       "      <th>Male_Total_Pur_Price</th>\n",
       "      <th>Male_Avg_Pur_Price</th>\n",
       "    </tr>\n",
       "  </thead>\n",
       "  <tbody>\n",
       "    <tr>\n",
       "      <th>0</th>\n",
       "      <td>652</td>\n",
       "      <td>1967.64</td>\n",
       "      <td>3.017853</td>\n",
       "    </tr>\n",
       "  </tbody>\n",
       "</table>\n",
       "</div>"
      ],
      "text/plain": [
       "   Male_purchase_count  Male_Total_Pur_Price  Male_Avg_Pur_Price\n",
       "0                  652               1967.64            3.017853"
      ]
     },
     "execution_count": 15,
     "metadata": {},
     "output_type": "execute_result"
    }
   ],
   "source": [
    "# Average purchase price by gender Male\n",
    "\n",
    "# Create a list of the columns\n",
    "columns = [ \"Purchase ID\", \"SN\", \"Age\", \"Gender\", \"Item ID\", \"Item Name\", \"Price\"]\n",
    "\n",
    "#  Create a new df for \"Male Players\" with the columns. \n",
    "\n",
    "Male_df = purchase_data.loc[purchase_data[\"Gender\"]==\"Male\", columns]\n",
    "\n",
    "Male_purchase_count = len(purchase_data[purchase_data['Gender']== \"Male\"])\n",
    "\n",
    "Male_Total_Pur_Price = sum(Male_df[\"Price\"])\n",
    "\n",
    "Male_Avg_Pur_Price = Male_Total_Pur_Price/Male_purchase_count\n",
    "\n",
    "\n",
    "Summary_df = pd.DataFrame()\n",
    "Summary_df[\"Male_purchase_count\"] = [Male_purchase_count]\n",
    "Summary_df[\"Male_Total_Pur_Price\"] = [Male_Total_Pur_Price]\n",
    "Summary_df[\"Male_Avg_Pur_Price\"] = [Male_Avg_Pur_Price]\n",
    "\n",
    "Summary_df"
   ]
  },
  {
   "cell_type": "code",
   "execution_count": 16,
   "id": "92abfd0b",
   "metadata": {},
   "outputs": [
    {
     "data": {
      "text/html": [
       "<div>\n",
       "<style scoped>\n",
       "    .dataframe tbody tr th:only-of-type {\n",
       "        vertical-align: middle;\n",
       "    }\n",
       "\n",
       "    .dataframe tbody tr th {\n",
       "        vertical-align: top;\n",
       "    }\n",
       "\n",
       "    .dataframe thead th {\n",
       "        text-align: right;\n",
       "    }\n",
       "</style>\n",
       "<table border=\"1\" class=\"dataframe\">\n",
       "  <thead>\n",
       "    <tr style=\"text-align: right;\">\n",
       "      <th></th>\n",
       "      <th>Female_count</th>\n",
       "      <th>Female_Total_Pur_Price</th>\n",
       "      <th>Female_Avg_Pur_Price</th>\n",
       "    </tr>\n",
       "  </thead>\n",
       "  <tbody>\n",
       "    <tr>\n",
       "      <th>0</th>\n",
       "      <td>113</td>\n",
       "      <td>361.94</td>\n",
       "      <td>3.203009</td>\n",
       "    </tr>\n",
       "  </tbody>\n",
       "</table>\n",
       "</div>"
      ],
      "text/plain": [
       "   Female_count  Female_Total_Pur_Price  Female_Avg_Pur_Price\n",
       "0           113                  361.94              3.203009"
      ]
     },
     "execution_count": 16,
     "metadata": {},
     "output_type": "execute_result"
    }
   ],
   "source": [
    "# Average purchase price by gender Female\n",
    "\n",
    "# Create a list of the columns\n",
    "columns = [ \"Purchase ID\", \"SN\", \"Age\", \"Gender\", \"Item ID\", \"Item Name\", \"Price\"]\n",
    "\n",
    "# Create a new df for \"Female Players\" with the columns. \n",
    "\n",
    "Female_df = purchase_data.loc[purchase_data[\"Gender\"]==\"Female\", columns]\n",
    "\n",
    "Female_Total_Pur_Price = sum(Female_df[\"Price\"])\n",
    "\n",
    "Female_count = Female_df[\"Gender\"].count()\n",
    "\n",
    "Female_Avg_Pur_Price = Female_Total_Pur_Price/Female_purchase_count\n",
    "\n",
    "\n",
    "Summary_df = pd.DataFrame()\n",
    "Summary_df[\"Female_count\"] = [Female_count]\n",
    "Summary_df[\"Female_Total_Pur_Price\"] = [Female_Total_Pur_Price]\n",
    "Summary_df[\"Female_Avg_Pur_Price\"] = [Female_Avg_Pur_Price]\n",
    "\n",
    "Summary_df"
   ]
  },
  {
   "cell_type": "code",
   "execution_count": 17,
   "id": "fcd0f035",
   "metadata": {},
   "outputs": [
    {
     "data": {
      "text/html": [
       "<div>\n",
       "<style scoped>\n",
       "    .dataframe tbody tr th:only-of-type {\n",
       "        vertical-align: middle;\n",
       "    }\n",
       "\n",
       "    .dataframe tbody tr th {\n",
       "        vertical-align: top;\n",
       "    }\n",
       "\n",
       "    .dataframe thead th {\n",
       "        text-align: right;\n",
       "    }\n",
       "</style>\n",
       "<table border=\"1\" class=\"dataframe\">\n",
       "  <thead>\n",
       "    <tr style=\"text-align: right;\">\n",
       "      <th></th>\n",
       "      <th>Others_count</th>\n",
       "      <th>Others_Total_Pur_Price</th>\n",
       "      <th>Others_Avg_Pur_Price</th>\n",
       "    </tr>\n",
       "  </thead>\n",
       "  <tbody>\n",
       "    <tr>\n",
       "      <th>0</th>\n",
       "      <td>15</td>\n",
       "      <td>50.19</td>\n",
       "      <td>3.346</td>\n",
       "    </tr>\n",
       "  </tbody>\n",
       "</table>\n",
       "</div>"
      ],
      "text/plain": [
       "   Others_count  Others_Total_Pur_Price  Others_Avg_Pur_Price\n",
       "0            15                   50.19                 3.346"
      ]
     },
     "execution_count": 17,
     "metadata": {},
     "output_type": "execute_result"
    }
   ],
   "source": [
    "# Average purchase price by gender \"Others/Non-disclosed\"\n",
    "\n",
    "# Create a list of the columns\n",
    "columns = [ \"Purchase ID\", \"SN\", \"Age\", \"Gender\", \"Item ID\", \"Item Name\", \"Price\"]\n",
    "\n",
    "# Create a new df for \"Male Players\" with the columns. \n",
    "\n",
    "Others_df = purchase_data.loc[purchase_data[\"Gender\"] == \"Other / Non-Disclosed\", columns]\n",
    "\n",
    "Others_count = Others_df[\"Gender\"].count()\n",
    "\n",
    "Others_Total_Pur_Price = sum(Others_df[\"Price\"])\n",
    "\n",
    "Others_Avg_Pur_Price = Others_Total_Pur_Price/Others_count\n",
    "\n",
    "\n",
    "Summary_df = pd.DataFrame()\n",
    "Summary_df[\"Others_count\"] = [Others_count]\n",
    "Summary_df[\"Others_Total_Pur_Price\"] = [Others_Total_Pur_Price]\n",
    "Summary_df[\"Others_Avg_Pur_Price\"] = [Others_Avg_Pur_Price]\n",
    "Summary_df"
   ]
  },
  {
   "cell_type": "markdown",
   "id": "f9ae3656",
   "metadata": {},
   "source": [
    "# Age Demographics\n",
    " - Establish bins for ages\n",
    "    \n",
    "- Categorize the existing players using the age bins. Hint: use pd.cut()\n",
    "\n",
    "- Calculate the numbers and percentages by age group\n",
    "\n",
    "- Create a summary data frame to hold the results\n",
    "\n",
    "- Optional: round the percentage column to two decimal points\n",
    "\n",
    "- Display Age Demographics Table\n"
   ]
  },
  {
   "cell_type": "code",
   "execution_count": 18,
   "id": "64aecf18",
   "metadata": {},
   "outputs": [
    {
     "name": "stdout",
     "output_type": "stream",
     "text": [
      "Min_age 7\n",
      "Max_age 45\n"
     ]
    },
    {
     "data": {
      "text/plain": [
       "0    15-19\n",
       "1    35-39\n",
       "2    20-24\n",
       "3    20-24\n",
       "4    20-24\n",
       "5    20-24\n",
       "6    35-39\n",
       "7    15-19\n",
       "8    20-24\n",
       "9    30-34\n",
       "Name: Age, dtype: category\n",
       "Categories (8, object): ['<10' < '10-14' < '15-19' < '20-24' < '25-29' < '30-34' < '35-39' < '>=40']"
      ]
     },
     "execution_count": 18,
     "metadata": {},
     "output_type": "execute_result"
    }
   ],
   "source": [
    "Min_age = purchase_data[\"Age\"].min()\n",
    "print(\"Min_age\", Min_age)\n",
    "\n",
    "Max_age = purchase_data[\"Age\"].max()\n",
    "print(\"Max_age\", Max_age)\n",
    "\n",
    "\n",
    "#Create bins in which data will be held. \n",
    "\n",
    "bins = [0,10,15,20,25,30,35,40,45]\n",
    "\n",
    "Age_group = [\"<10\", \"10-14\", \"15-19\", \"20-24\", \"25-29\", \"30-34\", \"35-39\", \">=40\"]\n",
    "\n",
    "# Cut purchase data and place the ages into bins\n",
    "\n",
    "Age_df = pd.cut(purchase_data[\"Age\"], bins, labels = Age_group)\n",
    "Age_df.head(10)"
   ]
  },
  {
   "cell_type": "code",
   "execution_count": 19,
   "id": "e531ec67",
   "metadata": {},
   "outputs": [
    {
     "data": {
      "text/html": [
       "<div>\n",
       "<style scoped>\n",
       "    .dataframe tbody tr th:only-of-type {\n",
       "        vertical-align: middle;\n",
       "    }\n",
       "\n",
       "    .dataframe tbody tr th {\n",
       "        vertical-align: top;\n",
       "    }\n",
       "\n",
       "    .dataframe thead th {\n",
       "        text-align: right;\n",
       "    }\n",
       "</style>\n",
       "<table border=\"1\" class=\"dataframe\">\n",
       "  <thead>\n",
       "    <tr style=\"text-align: right;\">\n",
       "      <th></th>\n",
       "      <th>Purchase ID</th>\n",
       "      <th>SN</th>\n",
       "      <th>Age</th>\n",
       "      <th>Gender</th>\n",
       "      <th>Item ID</th>\n",
       "      <th>Item Name</th>\n",
       "      <th>Price</th>\n",
       "      <th>Age_range</th>\n",
       "    </tr>\n",
       "  </thead>\n",
       "  <tbody>\n",
       "    <tr>\n",
       "      <th>0</th>\n",
       "      <td>0</td>\n",
       "      <td>Lisim78</td>\n",
       "      <td>20</td>\n",
       "      <td>Male</td>\n",
       "      <td>108</td>\n",
       "      <td>Extraction, Quickblade Of Trembling Hands</td>\n",
       "      <td>3.53</td>\n",
       "      <td>15-19</td>\n",
       "    </tr>\n",
       "    <tr>\n",
       "      <th>1</th>\n",
       "      <td>1</td>\n",
       "      <td>Lisovynya38</td>\n",
       "      <td>40</td>\n",
       "      <td>Male</td>\n",
       "      <td>143</td>\n",
       "      <td>Frenzied Scimitar</td>\n",
       "      <td>1.56</td>\n",
       "      <td>35-39</td>\n",
       "    </tr>\n",
       "    <tr>\n",
       "      <th>2</th>\n",
       "      <td>2</td>\n",
       "      <td>Ithergue48</td>\n",
       "      <td>24</td>\n",
       "      <td>Male</td>\n",
       "      <td>92</td>\n",
       "      <td>Final Critic</td>\n",
       "      <td>4.88</td>\n",
       "      <td>20-24</td>\n",
       "    </tr>\n",
       "    <tr>\n",
       "      <th>3</th>\n",
       "      <td>3</td>\n",
       "      <td>Chamassasya86</td>\n",
       "      <td>24</td>\n",
       "      <td>Male</td>\n",
       "      <td>100</td>\n",
       "      <td>Blindscythe</td>\n",
       "      <td>3.27</td>\n",
       "      <td>20-24</td>\n",
       "    </tr>\n",
       "    <tr>\n",
       "      <th>4</th>\n",
       "      <td>4</td>\n",
       "      <td>Iskosia90</td>\n",
       "      <td>23</td>\n",
       "      <td>Male</td>\n",
       "      <td>131</td>\n",
       "      <td>Fury</td>\n",
       "      <td>1.44</td>\n",
       "      <td>20-24</td>\n",
       "    </tr>\n",
       "  </tbody>\n",
       "</table>\n",
       "</div>"
      ],
      "text/plain": [
       "   Purchase ID             SN  Age Gender  Item ID  \\\n",
       "0            0        Lisim78   20   Male      108   \n",
       "1            1    Lisovynya38   40   Male      143   \n",
       "2            2     Ithergue48   24   Male       92   \n",
       "3            3  Chamassasya86   24   Male      100   \n",
       "4            4      Iskosia90   23   Male      131   \n",
       "\n",
       "                                   Item Name  Price Age_range  \n",
       "0  Extraction, Quickblade Of Trembling Hands   3.53     15-19  \n",
       "1                          Frenzied Scimitar   1.56     35-39  \n",
       "2                               Final Critic   4.88     20-24  \n",
       "3                                Blindscythe   3.27     20-24  \n",
       "4                                       Fury   1.44     20-24  "
      ]
     },
     "execution_count": 19,
     "metadata": {},
     "output_type": "execute_result"
    }
   ],
   "source": [
    "# Place the data series into a new column inside of the DataFrame\n",
    "\n",
    "purchase_data[\"Age_range\"] = Age_df\n",
    "\n",
    "purchase_data.head()"
   ]
  },
  {
   "cell_type": "code",
   "execution_count": 20,
   "id": "47461904",
   "metadata": {},
   "outputs": [
    {
     "data": {
      "text/plain": [
       "Age_range  Gender               \n",
       "<10        Male                      25\n",
       "           Female                     7\n",
       "10-14      Male                      41\n",
       "           Female                    11\n",
       "           Other / Non-Disclosed      2\n",
       "15-19      Male                     167\n",
       "           Female                    28\n",
       "           Other / Non-Disclosed      5\n",
       "20-24      Male                     270\n",
       "           Female                    51\n",
       "           Other / Non-Disclosed      4\n",
       "25-29      Male                      70\n",
       "           Female                     7\n",
       "30-34      Male                      43\n",
       "           Female                     7\n",
       "           Other / Non-Disclosed      2\n",
       "35-39      Male                      29\n",
       "           Female                     2\n",
       "           Other / Non-Disclosed      2\n",
       ">=40       Male                       7\n",
       "Name: Gender, dtype: int64"
      ]
     },
     "execution_count": 20,
     "metadata": {},
     "output_type": "execute_result"
    }
   ],
   "source": [
    "# Distribution of Male/Female/Others - Non-disclosed by \"Age_range\"\n",
    "\n",
    "Age_grp_gen = purchase_data.groupby(\"Age_range\")[\"Gender\"].value_counts()\n",
    "Age_grp_gen"
   ]
  },
  {
   "cell_type": "code",
   "execution_count": 21,
   "id": "e19e73d5",
   "metadata": {},
   "outputs": [
    {
     "data": {
      "text/plain": [
       "Age_range\n",
       "<10       32\n",
       "10-14     54\n",
       "15-19    200\n",
       "20-24    325\n",
       "25-29     77\n",
       "30-34     52\n",
       "35-39     33\n",
       ">=40       7\n",
       "Name: Gender, dtype: int64"
      ]
     },
     "execution_count": 21,
     "metadata": {},
     "output_type": "execute_result"
    }
   ],
   "source": [
    "#Calculate the numbers by age group\n",
    "\n",
    "Age_grp = purchase_data.groupby(\"Age_range\")[\"Gender\"].count()\n",
    "Age_grp"
   ]
  },
  {
   "cell_type": "code",
   "execution_count": 22,
   "id": "f6e2eebe",
   "metadata": {},
   "outputs": [
    {
     "data": {
      "text/plain": [
       "20-24    41.67\n",
       "15-19    25.64\n",
       "25-29     9.87\n",
       "10-14     6.92\n",
       "30-34     6.67\n",
       "35-39     4.23\n",
       "<10       4.10\n",
       ">=40      0.90\n",
       "Name: Age_range, dtype: float64"
      ]
     },
     "execution_count": 22,
     "metadata": {},
     "output_type": "execute_result"
    }
   ],
   "source": [
    "#Players percentage by age range.\n",
    "\n",
    "Age_pct = round(purchase_data[\"Age_range\"].value_counts()/780 * 100, 2)\n",
    "Age_pct"
   ]
  },
  {
   "cell_type": "code",
   "execution_count": 23,
   "id": "2de3c465",
   "metadata": {},
   "outputs": [
    {
     "data": {
      "text/html": [
       "<div>\n",
       "<style scoped>\n",
       "    .dataframe tbody tr th:only-of-type {\n",
       "        vertical-align: middle;\n",
       "    }\n",
       "\n",
       "    .dataframe tbody tr th {\n",
       "        vertical-align: top;\n",
       "    }\n",
       "\n",
       "    .dataframe thead th {\n",
       "        text-align: right;\n",
       "    }\n",
       "</style>\n",
       "<table border=\"1\" class=\"dataframe\">\n",
       "  <thead>\n",
       "    <tr style=\"text-align: right;\">\n",
       "      <th></th>\n",
       "      <th>Age_pct</th>\n",
       "      <th>Age_grp</th>\n",
       "    </tr>\n",
       "  </thead>\n",
       "  <tbody>\n",
       "    <tr>\n",
       "      <th>20-24</th>\n",
       "      <td>41.67</td>\n",
       "      <td>325</td>\n",
       "    </tr>\n",
       "    <tr>\n",
       "      <th>15-19</th>\n",
       "      <td>25.64</td>\n",
       "      <td>200</td>\n",
       "    </tr>\n",
       "    <tr>\n",
       "      <th>25-29</th>\n",
       "      <td>9.87</td>\n",
       "      <td>77</td>\n",
       "    </tr>\n",
       "    <tr>\n",
       "      <th>10-14</th>\n",
       "      <td>6.92</td>\n",
       "      <td>54</td>\n",
       "    </tr>\n",
       "    <tr>\n",
       "      <th>30-34</th>\n",
       "      <td>6.67</td>\n",
       "      <td>52</td>\n",
       "    </tr>\n",
       "    <tr>\n",
       "      <th>35-39</th>\n",
       "      <td>4.23</td>\n",
       "      <td>33</td>\n",
       "    </tr>\n",
       "    <tr>\n",
       "      <th>&lt;10</th>\n",
       "      <td>4.10</td>\n",
       "      <td>32</td>\n",
       "    </tr>\n",
       "    <tr>\n",
       "      <th>&gt;=40</th>\n",
       "      <td>0.90</td>\n",
       "      <td>7</td>\n",
       "    </tr>\n",
       "  </tbody>\n",
       "</table>\n",
       "</div>"
      ],
      "text/plain": [
       "       Age_pct  Age_grp\n",
       "20-24    41.67      325\n",
       "15-19    25.64      200\n",
       "25-29     9.87       77\n",
       "10-14     6.92       54\n",
       "30-34     6.67       52\n",
       "35-39     4.23       33\n",
       "<10       4.10       32\n",
       ">=40      0.90        7"
      ]
     },
     "execution_count": 23,
     "metadata": {},
     "output_type": "execute_result"
    }
   ],
   "source": [
    "#Combining Players count and percentage in a summary dataframe\n",
    "\n",
    "summary_df = pd.DataFrame()\n",
    "summary_df[\"Age_pct\"] = Age_pct\n",
    "summary_df[\"Age_grp\"] = Age_grp\n",
    "summary_df"
   ]
  },
  {
   "cell_type": "markdown",
   "id": "3cfa036a",
   "metadata": {},
   "source": [
    "# Purchasing Analysis (Age)\n",
    " \n",
    " - Bin the purchase_data data frame by age\n",
    "\n",
    " - Run basic calculations to obtain purchase count, avg. purchase price, avg. purchase total per person etc. in the table below\n",
    "\n",
    " - Create a summary data frame to hold the results\n",
    "\n",
    " - Optional: give the displayed data cleaner formatting\n",
    "\n",
    " - Display the summary data frame"
   ]
  },
  {
   "cell_type": "code",
   "execution_count": 24,
   "id": "f84a0a19",
   "metadata": {},
   "outputs": [
    {
     "data": {
      "text/plain": [
       "0    15-19\n",
       "1    35-39\n",
       "2    20-24\n",
       "3    20-24\n",
       "4    20-24\n",
       "5    20-24\n",
       "6    35-39\n",
       "7    15-19\n",
       "8    20-24\n",
       "9    30-34\n",
       "Name: Age, dtype: category\n",
       "Categories (8, object): ['<10' < '10-14' < '15-19' < '20-24' < '25-29' < '30-34' < '35-39' < '>=40']"
      ]
     },
     "execution_count": 24,
     "metadata": {},
     "output_type": "execute_result"
    }
   ],
   "source": [
    "#Create bins in which data will be held. \n",
    "\n",
    "bins = [0,10,15,20,25,30,35,40,45]\n",
    "\n",
    "Age_group = [\"<10\", \"10-14\", \"15-19\", \"20-24\", \"25-29\", \"30-34\", \"35-39\", \">=40\"]\n",
    "\n",
    "\n",
    "# Cut purchase data and place the ages into bins\n",
    "\n",
    "Age_df = pd.cut(purchase_data[\"Age\"], bins, labels = Age_group)\n",
    "Age_df.head(10)"
   ]
  },
  {
   "cell_type": "code",
   "execution_count": 25,
   "id": "0db4829d",
   "metadata": {},
   "outputs": [
    {
     "data": {
      "text/plain": [
       "Age_range\n",
       "<10       32\n",
       "10-14     54\n",
       "15-19    200\n",
       "20-24    325\n",
       "25-29     77\n",
       "30-34     52\n",
       "35-39     33\n",
       ">=40       7\n",
       "Name: Item ID, dtype: int64"
      ]
     },
     "execution_count": 25,
     "metadata": {},
     "output_type": "execute_result"
    }
   ],
   "source": [
    "#Run basic calculations to obtain purchase count \n",
    "\n",
    "Pur_count = purchase_data.groupby(\"Age_range\")[\"Item ID\"].count()\n",
    "Pur_count"
   ]
  },
  {
   "cell_type": "code",
   "execution_count": 26,
   "id": "2da8d17a",
   "metadata": {},
   "outputs": [
    {
     "data": {
      "text/html": [
       "<div>\n",
       "<style scoped>\n",
       "    .dataframe tbody tr th:only-of-type {\n",
       "        vertical-align: middle;\n",
       "    }\n",
       "\n",
       "    .dataframe tbody tr th {\n",
       "        vertical-align: top;\n",
       "    }\n",
       "\n",
       "    .dataframe thead th {\n",
       "        text-align: right;\n",
       "    }\n",
       "</style>\n",
       "<table border=\"1\" class=\"dataframe\">\n",
       "  <thead>\n",
       "    <tr style=\"text-align: right;\">\n",
       "      <th></th>\n",
       "      <th>Price</th>\n",
       "    </tr>\n",
       "    <tr>\n",
       "      <th>Age_range</th>\n",
       "      <th></th>\n",
       "    </tr>\n",
       "  </thead>\n",
       "  <tbody>\n",
       "    <tr>\n",
       "      <th>&lt;10</th>\n",
       "      <td>3.405000</td>\n",
       "    </tr>\n",
       "    <tr>\n",
       "      <th>10-14</th>\n",
       "      <td>2.900000</td>\n",
       "    </tr>\n",
       "    <tr>\n",
       "      <th>15-19</th>\n",
       "      <td>3.107800</td>\n",
       "    </tr>\n",
       "    <tr>\n",
       "      <th>20-24</th>\n",
       "      <td>3.020431</td>\n",
       "    </tr>\n",
       "    <tr>\n",
       "      <th>25-29</th>\n",
       "      <td>2.875584</td>\n",
       "    </tr>\n",
       "    <tr>\n",
       "      <th>30-34</th>\n",
       "      <td>2.994423</td>\n",
       "    </tr>\n",
       "    <tr>\n",
       "      <th>35-39</th>\n",
       "      <td>3.404545</td>\n",
       "    </tr>\n",
       "    <tr>\n",
       "      <th>&gt;=40</th>\n",
       "      <td>3.075714</td>\n",
       "    </tr>\n",
       "  </tbody>\n",
       "</table>\n",
       "</div>"
      ],
      "text/plain": [
       "              Price\n",
       "Age_range          \n",
       "<10        3.405000\n",
       "10-14      2.900000\n",
       "15-19      3.107800\n",
       "20-24      3.020431\n",
       "25-29      2.875584\n",
       "30-34      2.994423\n",
       "35-39      3.404545\n",
       ">=40       3.075714"
      ]
     },
     "execution_count": 26,
     "metadata": {},
     "output_type": "execute_result"
    }
   ],
   "source": [
    "#Run basic calculations to obtain Avg.purchase price\n",
    "\n",
    "Avg_pur_price = purchase_data.groupby(\"Age_range\")[\"Price\",].mean()\n",
    "Avg_pur_price"
   ]
  },
  {
   "cell_type": "code",
   "execution_count": 27,
   "id": "6b100bcc",
   "metadata": {},
   "outputs": [
    {
     "data": {
      "text/plain": [
       "Age_range\n",
       "<10      108.96\n",
       "10-14    156.60\n",
       "15-19    621.56\n",
       "20-24    981.64\n",
       "25-29    221.42\n",
       "30-34    155.71\n",
       "35-39    112.35\n",
       ">=40      21.53\n",
       "Name: Price, dtype: float64"
      ]
     },
     "execution_count": 27,
     "metadata": {},
     "output_type": "execute_result"
    }
   ],
   "source": [
    "#Run basic calculations to obtain purchase total per person \n",
    "\n",
    "Total_purchase_value = purchase_data.groupby(\"Age_range\")[\"Price\"].sum()\n",
    "Total_purchase_value "
   ]
  },
  {
   "cell_type": "code",
   "execution_count": 28,
   "id": "77ce7c50",
   "metadata": {},
   "outputs": [
    {
     "data": {
      "text/plain": [
       "Age_range\n",
       "<10      0.189167\n",
       "10-14    0.271875\n",
       "15-19    1.079097\n",
       "20-24    1.704236\n",
       "25-29    0.384410\n",
       "30-34    0.270330\n",
       "35-39    0.195052\n",
       ">=40     0.037378\n",
       "Name: Price, dtype: float64"
      ]
     },
     "execution_count": 28,
     "metadata": {},
     "output_type": "execute_result"
    }
   ],
   "source": [
    "Avg_purchase_value = Total_purchase_value /576\n",
    "Avg_purchase_value"
   ]
  },
  {
   "cell_type": "code",
   "execution_count": 29,
   "id": "b831fb4b",
   "metadata": {},
   "outputs": [
    {
     "data": {
      "text/html": [
       "<div>\n",
       "<style scoped>\n",
       "    .dataframe tbody tr th:only-of-type {\n",
       "        vertical-align: middle;\n",
       "    }\n",
       "\n",
       "    .dataframe tbody tr th {\n",
       "        vertical-align: top;\n",
       "    }\n",
       "\n",
       "    .dataframe thead th {\n",
       "        text-align: right;\n",
       "    }\n",
       "</style>\n",
       "<table border=\"1\" class=\"dataframe\">\n",
       "  <thead>\n",
       "    <tr style=\"text-align: right;\">\n",
       "      <th></th>\n",
       "      <th>Pur_count</th>\n",
       "      <th>Avg_pur_price</th>\n",
       "      <th>Total_purchase_value</th>\n",
       "      <th>Avg_purchase_value</th>\n",
       "    </tr>\n",
       "    <tr>\n",
       "      <th>Age_range</th>\n",
       "      <th></th>\n",
       "      <th></th>\n",
       "      <th></th>\n",
       "      <th></th>\n",
       "    </tr>\n",
       "  </thead>\n",
       "  <tbody>\n",
       "    <tr>\n",
       "      <th>&lt;10</th>\n",
       "      <td>32</td>\n",
       "      <td>3.405000</td>\n",
       "      <td>108.96</td>\n",
       "      <td>0.189167</td>\n",
       "    </tr>\n",
       "    <tr>\n",
       "      <th>10-14</th>\n",
       "      <td>54</td>\n",
       "      <td>2.900000</td>\n",
       "      <td>156.60</td>\n",
       "      <td>0.271875</td>\n",
       "    </tr>\n",
       "    <tr>\n",
       "      <th>15-19</th>\n",
       "      <td>200</td>\n",
       "      <td>3.107800</td>\n",
       "      <td>621.56</td>\n",
       "      <td>1.079097</td>\n",
       "    </tr>\n",
       "    <tr>\n",
       "      <th>20-24</th>\n",
       "      <td>325</td>\n",
       "      <td>3.020431</td>\n",
       "      <td>981.64</td>\n",
       "      <td>1.704236</td>\n",
       "    </tr>\n",
       "    <tr>\n",
       "      <th>25-29</th>\n",
       "      <td>77</td>\n",
       "      <td>2.875584</td>\n",
       "      <td>221.42</td>\n",
       "      <td>0.384410</td>\n",
       "    </tr>\n",
       "    <tr>\n",
       "      <th>30-34</th>\n",
       "      <td>52</td>\n",
       "      <td>2.994423</td>\n",
       "      <td>155.71</td>\n",
       "      <td>0.270330</td>\n",
       "    </tr>\n",
       "    <tr>\n",
       "      <th>35-39</th>\n",
       "      <td>33</td>\n",
       "      <td>3.404545</td>\n",
       "      <td>112.35</td>\n",
       "      <td>0.195052</td>\n",
       "    </tr>\n",
       "    <tr>\n",
       "      <th>&gt;=40</th>\n",
       "      <td>7</td>\n",
       "      <td>3.075714</td>\n",
       "      <td>21.53</td>\n",
       "      <td>0.037378</td>\n",
       "    </tr>\n",
       "  </tbody>\n",
       "</table>\n",
       "</div>"
      ],
      "text/plain": [
       "           Pur_count  Avg_pur_price  Total_purchase_value  Avg_purchase_value\n",
       "Age_range                                                                    \n",
       "<10               32       3.405000                108.96            0.189167\n",
       "10-14             54       2.900000                156.60            0.271875\n",
       "15-19            200       3.107800                621.56            1.079097\n",
       "20-24            325       3.020431                981.64            1.704236\n",
       "25-29             77       2.875584                221.42            0.384410\n",
       "30-34             52       2.994423                155.71            0.270330\n",
       "35-39             33       3.404545                112.35            0.195052\n",
       ">=40               7       3.075714                 21.53            0.037378"
      ]
     },
     "execution_count": 29,
     "metadata": {},
     "output_type": "execute_result"
    }
   ],
   "source": [
    "#Create a summary data frame to hold the results\n",
    "\n",
    "Price_summary_df = pd.DataFrame()\n",
    "Price_summary_df[\"Pur_count\"] = Pur_count\n",
    "Price_summary_df[\"Avg_pur_price\"] = Avg_pur_price\n",
    "Price_summary_df[\"Total_purchase_value\"] = Total_purchase_value \n",
    "Price_summary_df[\"Avg_purchase_value\"] = Avg_purchase_value\n",
    "Price_summary_df"
   ]
  },
  {
   "cell_type": "markdown",
   "id": "b4ecca88",
   "metadata": {},
   "source": [
    "# Top Spenders\n",
    " \n",
    " - Run basic calculations to obtain the results in the table below\n",
    "\n",
    " - Create a summary data frame to hold the results\n",
    "\n",
    " - Sort the total purchase value column in descending order\n",
    "\n",
    " - Optional: give the displayed data cleaner formatting\n",
    "\n",
    " - Display a preview of the summary data frame"
   ]
  },
  {
   "cell_type": "code",
   "execution_count": 30,
   "id": "8d8872f2",
   "metadata": {},
   "outputs": [
    {
     "data": {
      "text/html": [
       "<div>\n",
       "<style scoped>\n",
       "    .dataframe tbody tr th:only-of-type {\n",
       "        vertical-align: middle;\n",
       "    }\n",
       "\n",
       "    .dataframe tbody tr th {\n",
       "        vertical-align: top;\n",
       "    }\n",
       "\n",
       "    .dataframe thead th {\n",
       "        text-align: right;\n",
       "    }\n",
       "</style>\n",
       "<table border=\"1\" class=\"dataframe\">\n",
       "  <thead>\n",
       "    <tr style=\"text-align: right;\">\n",
       "      <th></th>\n",
       "      <th>Pur_count</th>\n",
       "      <th>Avg_pur_price</th>\n",
       "      <th>Total_purchase_value</th>\n",
       "      <th>Avg_purchase_value</th>\n",
       "    </tr>\n",
       "    <tr>\n",
       "      <th>Age_range</th>\n",
       "      <th></th>\n",
       "      <th></th>\n",
       "      <th></th>\n",
       "      <th></th>\n",
       "    </tr>\n",
       "  </thead>\n",
       "  <tbody>\n",
       "    <tr>\n",
       "      <th>20-24</th>\n",
       "      <td>325</td>\n",
       "      <td>3.020431</td>\n",
       "      <td>981.64</td>\n",
       "      <td>1.704236</td>\n",
       "    </tr>\n",
       "    <tr>\n",
       "      <th>15-19</th>\n",
       "      <td>200</td>\n",
       "      <td>3.107800</td>\n",
       "      <td>621.56</td>\n",
       "      <td>1.079097</td>\n",
       "    </tr>\n",
       "    <tr>\n",
       "      <th>25-29</th>\n",
       "      <td>77</td>\n",
       "      <td>2.875584</td>\n",
       "      <td>221.42</td>\n",
       "      <td>0.384410</td>\n",
       "    </tr>\n",
       "    <tr>\n",
       "      <th>10-14</th>\n",
       "      <td>54</td>\n",
       "      <td>2.900000</td>\n",
       "      <td>156.60</td>\n",
       "      <td>0.271875</td>\n",
       "    </tr>\n",
       "    <tr>\n",
       "      <th>30-34</th>\n",
       "      <td>52</td>\n",
       "      <td>2.994423</td>\n",
       "      <td>155.71</td>\n",
       "      <td>0.270330</td>\n",
       "    </tr>\n",
       "    <tr>\n",
       "      <th>35-39</th>\n",
       "      <td>33</td>\n",
       "      <td>3.404545</td>\n",
       "      <td>112.35</td>\n",
       "      <td>0.195052</td>\n",
       "    </tr>\n",
       "    <tr>\n",
       "      <th>&lt;10</th>\n",
       "      <td>32</td>\n",
       "      <td>3.405000</td>\n",
       "      <td>108.96</td>\n",
       "      <td>0.189167</td>\n",
       "    </tr>\n",
       "    <tr>\n",
       "      <th>&gt;=40</th>\n",
       "      <td>7</td>\n",
       "      <td>3.075714</td>\n",
       "      <td>21.53</td>\n",
       "      <td>0.037378</td>\n",
       "    </tr>\n",
       "  </tbody>\n",
       "</table>\n",
       "</div>"
      ],
      "text/plain": [
       "           Pur_count  Avg_pur_price  Total_purchase_value  Avg_purchase_value\n",
       "Age_range                                                                    \n",
       "20-24            325       3.020431                981.64            1.704236\n",
       "15-19            200       3.107800                621.56            1.079097\n",
       "25-29             77       2.875584                221.42            0.384410\n",
       "10-14             54       2.900000                156.60            0.271875\n",
       "30-34             52       2.994423                155.71            0.270330\n",
       "35-39             33       3.404545                112.35            0.195052\n",
       "<10               32       3.405000                108.96            0.189167\n",
       ">=40               7       3.075714                 21.53            0.037378"
      ]
     },
     "execution_count": 30,
     "metadata": {},
     "output_type": "execute_result"
    }
   ],
   "source": [
    "pd_data = Price_summary_df.sort_values([\"Total_purchase_value\"], ascending=False)\n",
    "pd_data.head(10)"
   ]
  },
  {
   "cell_type": "code",
   "execution_count": 31,
   "id": "e3875e42",
   "metadata": {},
   "outputs": [
    {
     "data": {
      "text/plain": [
       "Item ID  Item Name                        \n",
       "0        Splinter                             4\n",
       "1        Crucifer                             4\n",
       "2        Verdict                              6\n",
       "3        Phantomlight                         6\n",
       "4        Bloodlord's Fetish                   5\n",
       "5        Putrid Fan                           4\n",
       "6        Rusty Skull                          2\n",
       "7        Thorn, Satchel of Dark Souls         7\n",
       "8        Purgatory, Gem of Regret             3\n",
       "9        Thorn, Conqueror of the Corrupted    4\n",
       "Name: Purchase ID, dtype: int64"
      ]
     },
     "execution_count": 31,
     "metadata": {},
     "output_type": "execute_result"
    }
   ],
   "source": [
    "# Purchase Count\n",
    "\n",
    "Purchase_count = purchase_data.groupby([\"Item ID\",\"Item Name\"]).count()[\"Purchase ID\"]\n",
    "Purchase_count.head(10)"
   ]
  },
  {
   "cell_type": "code",
   "execution_count": 32,
   "id": "dc00baed",
   "metadata": {},
   "outputs": [
    {
     "data": {
      "text/plain": [
       "Item ID  Item Name                        \n",
       "0        Splinter                             1.2800\n",
       "1        Crucifer                             2.9425\n",
       "2        Verdict                              2.4800\n",
       "3        Phantomlight                         2.4900\n",
       "4        Bloodlord's Fetish                   1.7000\n",
       "5        Putrid Fan                           4.0800\n",
       "6        Rusty Skull                          3.7000\n",
       "7        Thorn, Satchel of Dark Souls         1.3300\n",
       "8        Purgatory, Gem of Regret             3.9300\n",
       "9        Thorn, Conqueror of the Corrupted    2.7300\n",
       "Name: Price, dtype: float64"
      ]
     },
     "execution_count": 32,
     "metadata": {},
     "output_type": "execute_result"
    }
   ],
   "source": [
    "# Item price\n",
    "\n",
    "Item_price = purchase_data.groupby([\"Item ID\",\"Item Name\"]).mean()[\"Price\"]\n",
    "Item_price.head(10)"
   ]
  },
  {
   "cell_type": "code",
   "execution_count": 33,
   "id": "e79a72d1",
   "metadata": {},
   "outputs": [
    {
     "data": {
      "text/plain": [
       "Item ID  Item Name         \n",
       "0        Splinter               5.12\n",
       "1        Crucifer              11.77\n",
       "2        Verdict               14.88\n",
       "3        Phantomlight          14.94\n",
       "4        Bloodlord's Fetish     8.50\n",
       "Name: Price, dtype: float64"
      ]
     },
     "execution_count": 33,
     "metadata": {},
     "output_type": "execute_result"
    }
   ],
   "source": [
    "# Total Purchase Count\n",
    "\n",
    "Total_purchase_value = purchase_data.groupby([\"Item ID\",\"Item Name\"]).sum()[\"Price\"]\n",
    "Total_purchase_value.head()"
   ]
  },
  {
   "cell_type": "code",
   "execution_count": 34,
   "id": "d8637262",
   "metadata": {},
   "outputs": [
    {
     "data": {
      "text/html": [
       "<div>\n",
       "<style scoped>\n",
       "    .dataframe tbody tr th:only-of-type {\n",
       "        vertical-align: middle;\n",
       "    }\n",
       "\n",
       "    .dataframe tbody tr th {\n",
       "        vertical-align: top;\n",
       "    }\n",
       "\n",
       "    .dataframe thead th {\n",
       "        text-align: right;\n",
       "    }\n",
       "</style>\n",
       "<table border=\"1\" class=\"dataframe\">\n",
       "  <thead>\n",
       "    <tr style=\"text-align: right;\">\n",
       "      <th></th>\n",
       "      <th></th>\n",
       "      <th>Purchase_count</th>\n",
       "      <th>Item_price</th>\n",
       "      <th>Total_purchase_value</th>\n",
       "    </tr>\n",
       "    <tr>\n",
       "      <th>Item ID</th>\n",
       "      <th>Item Name</th>\n",
       "      <th></th>\n",
       "      <th></th>\n",
       "      <th></th>\n",
       "    </tr>\n",
       "  </thead>\n",
       "  <tbody>\n",
       "    <tr>\n",
       "      <th>0</th>\n",
       "      <th>Splinter</th>\n",
       "      <td>4</td>\n",
       "      <td>1.2800</td>\n",
       "      <td>5.12</td>\n",
       "    </tr>\n",
       "    <tr>\n",
       "      <th>1</th>\n",
       "      <th>Crucifer</th>\n",
       "      <td>4</td>\n",
       "      <td>2.9425</td>\n",
       "      <td>11.77</td>\n",
       "    </tr>\n",
       "    <tr>\n",
       "      <th>2</th>\n",
       "      <th>Verdict</th>\n",
       "      <td>6</td>\n",
       "      <td>2.4800</td>\n",
       "      <td>14.88</td>\n",
       "    </tr>\n",
       "    <tr>\n",
       "      <th>3</th>\n",
       "      <th>Phantomlight</th>\n",
       "      <td>6</td>\n",
       "      <td>2.4900</td>\n",
       "      <td>14.94</td>\n",
       "    </tr>\n",
       "    <tr>\n",
       "      <th>4</th>\n",
       "      <th>Bloodlord's Fetish</th>\n",
       "      <td>5</td>\n",
       "      <td>1.7000</td>\n",
       "      <td>8.50</td>\n",
       "    </tr>\n",
       "    <tr>\n",
       "      <th>5</th>\n",
       "      <th>Putrid Fan</th>\n",
       "      <td>4</td>\n",
       "      <td>4.0800</td>\n",
       "      <td>16.32</td>\n",
       "    </tr>\n",
       "    <tr>\n",
       "      <th>6</th>\n",
       "      <th>Rusty Skull</th>\n",
       "      <td>2</td>\n",
       "      <td>3.7000</td>\n",
       "      <td>7.40</td>\n",
       "    </tr>\n",
       "    <tr>\n",
       "      <th>7</th>\n",
       "      <th>Thorn, Satchel of Dark Souls</th>\n",
       "      <td>7</td>\n",
       "      <td>1.3300</td>\n",
       "      <td>9.31</td>\n",
       "    </tr>\n",
       "    <tr>\n",
       "      <th>8</th>\n",
       "      <th>Purgatory, Gem of Regret</th>\n",
       "      <td>3</td>\n",
       "      <td>3.9300</td>\n",
       "      <td>11.79</td>\n",
       "    </tr>\n",
       "    <tr>\n",
       "      <th>9</th>\n",
       "      <th>Thorn, Conqueror of the Corrupted</th>\n",
       "      <td>4</td>\n",
       "      <td>2.7300</td>\n",
       "      <td>10.92</td>\n",
       "    </tr>\n",
       "  </tbody>\n",
       "</table>\n",
       "</div>"
      ],
      "text/plain": [
       "                                           Purchase_count  Item_price  \\\n",
       "Item ID Item Name                                                       \n",
       "0       Splinter                                        4      1.2800   \n",
       "1       Crucifer                                        4      2.9425   \n",
       "2       Verdict                                         6      2.4800   \n",
       "3       Phantomlight                                    6      2.4900   \n",
       "4       Bloodlord's Fetish                              5      1.7000   \n",
       "5       Putrid Fan                                      4      4.0800   \n",
       "6       Rusty Skull                                     2      3.7000   \n",
       "7       Thorn, Satchel of Dark Souls                    7      1.3300   \n",
       "8       Purgatory, Gem of Regret                        3      3.9300   \n",
       "9       Thorn, Conqueror of the Corrupted               4      2.7300   \n",
       "\n",
       "                                           Total_purchase_value  \n",
       "Item ID Item Name                                                \n",
       "0       Splinter                                           5.12  \n",
       "1       Crucifer                                          11.77  \n",
       "2       Verdict                                           14.88  \n",
       "3       Phantomlight                                      14.94  \n",
       "4       Bloodlord's Fetish                                 8.50  \n",
       "5       Putrid Fan                                        16.32  \n",
       "6       Rusty Skull                                        7.40  \n",
       "7       Thorn, Satchel of Dark Souls                       9.31  \n",
       "8       Purgatory, Gem of Regret                          11.79  \n",
       "9       Thorn, Conqueror of the Corrupted                 10.92  "
      ]
     },
     "execution_count": 34,
     "metadata": {},
     "output_type": "execute_result"
    }
   ],
   "source": [
    "# Convert to DataFrame\n",
    "\n",
    "items_summary_df = pd.DataFrame()\n",
    "items_summary_df[\"Purchase_count\"] = Purchase_count\n",
    "items_summary_df[\"Item_price\"] = Item_price\n",
    "items_summary_df[\"Total_purchase_value\"] = Total_purchase_value\n",
    "\n",
    "items_summary_df.head(10)"
   ]
  },
  {
   "cell_type": "code",
   "execution_count": 35,
   "id": "ba158951",
   "metadata": {},
   "outputs": [
    {
     "data": {
      "text/html": [
       "<div>\n",
       "<style scoped>\n",
       "    .dataframe tbody tr th:only-of-type {\n",
       "        vertical-align: middle;\n",
       "    }\n",
       "\n",
       "    .dataframe tbody tr th {\n",
       "        vertical-align: top;\n",
       "    }\n",
       "\n",
       "    .dataframe thead th {\n",
       "        text-align: right;\n",
       "    }\n",
       "</style>\n",
       "<table border=\"1\" class=\"dataframe\">\n",
       "  <thead>\n",
       "    <tr style=\"text-align: right;\">\n",
       "      <th></th>\n",
       "      <th></th>\n",
       "      <th>Purchase_count</th>\n",
       "      <th>Item_price</th>\n",
       "      <th>Total_purchase_value</th>\n",
       "    </tr>\n",
       "    <tr>\n",
       "      <th>Item ID</th>\n",
       "      <th>Item Name</th>\n",
       "      <th></th>\n",
       "      <th></th>\n",
       "      <th></th>\n",
       "    </tr>\n",
       "  </thead>\n",
       "  <tbody>\n",
       "    <tr>\n",
       "      <th>92</th>\n",
       "      <th>Final Critic</th>\n",
       "      <td>13</td>\n",
       "      <td>4.614615</td>\n",
       "      <td>59.99</td>\n",
       "    </tr>\n",
       "    <tr>\n",
       "      <th>178</th>\n",
       "      <th>Oathbreaker, Last Hope of the Breaking Storm</th>\n",
       "      <td>12</td>\n",
       "      <td>4.230000</td>\n",
       "      <td>50.76</td>\n",
       "    </tr>\n",
       "    <tr>\n",
       "      <th>145</th>\n",
       "      <th>Fiery Glass Crusader</th>\n",
       "      <td>9</td>\n",
       "      <td>4.580000</td>\n",
       "      <td>41.22</td>\n",
       "    </tr>\n",
       "    <tr>\n",
       "      <th>132</th>\n",
       "      <th>Persuasion</th>\n",
       "      <td>9</td>\n",
       "      <td>3.221111</td>\n",
       "      <td>28.99</td>\n",
       "    </tr>\n",
       "    <tr>\n",
       "      <th>108</th>\n",
       "      <th>Extraction, Quickblade Of Trembling Hands</th>\n",
       "      <td>9</td>\n",
       "      <td>3.530000</td>\n",
       "      <td>31.77</td>\n",
       "    </tr>\n",
       "    <tr>\n",
       "      <th>82</th>\n",
       "      <th>Nirvana</th>\n",
       "      <td>9</td>\n",
       "      <td>4.900000</td>\n",
       "      <td>44.10</td>\n",
       "    </tr>\n",
       "    <tr>\n",
       "      <th>75</th>\n",
       "      <th>Brutality Ivory Warmace</th>\n",
       "      <td>8</td>\n",
       "      <td>2.420000</td>\n",
       "      <td>19.36</td>\n",
       "    </tr>\n",
       "    <tr>\n",
       "      <th>103</th>\n",
       "      <th>Singed Scalpel</th>\n",
       "      <td>8</td>\n",
       "      <td>4.350000</td>\n",
       "      <td>34.80</td>\n",
       "    </tr>\n",
       "    <tr>\n",
       "      <th>34</th>\n",
       "      <th>Retribution Axe</th>\n",
       "      <td>8</td>\n",
       "      <td>2.220000</td>\n",
       "      <td>17.76</td>\n",
       "    </tr>\n",
       "    <tr>\n",
       "      <th>37</th>\n",
       "      <th>Shadow Strike, Glory of Ending Hope</th>\n",
       "      <td>8</td>\n",
       "      <td>3.160000</td>\n",
       "      <td>25.28</td>\n",
       "    </tr>\n",
       "  </tbody>\n",
       "</table>\n",
       "</div>"
      ],
      "text/plain": [
       "                                                      Purchase_count  \\\n",
       "Item ID Item Name                                                      \n",
       "92      Final Critic                                              13   \n",
       "178     Oathbreaker, Last Hope of the Breaking Storm              12   \n",
       "145     Fiery Glass Crusader                                       9   \n",
       "132     Persuasion                                                 9   \n",
       "108     Extraction, Quickblade Of Trembling Hands                  9   \n",
       "82      Nirvana                                                    9   \n",
       "75      Brutality Ivory Warmace                                    8   \n",
       "103     Singed Scalpel                                             8   \n",
       "34      Retribution Axe                                            8   \n",
       "37      Shadow Strike, Glory of Ending Hope                        8   \n",
       "\n",
       "                                                      Item_price  \\\n",
       "Item ID Item Name                                                  \n",
       "92      Final Critic                                    4.614615   \n",
       "178     Oathbreaker, Last Hope of the Breaking Storm    4.230000   \n",
       "145     Fiery Glass Crusader                            4.580000   \n",
       "132     Persuasion                                      3.221111   \n",
       "108     Extraction, Quickblade Of Trembling Hands       3.530000   \n",
       "82      Nirvana                                         4.900000   \n",
       "75      Brutality Ivory Warmace                         2.420000   \n",
       "103     Singed Scalpel                                  4.350000   \n",
       "34      Retribution Axe                                 2.220000   \n",
       "37      Shadow Strike, Glory of Ending Hope             3.160000   \n",
       "\n",
       "                                                      Total_purchase_value  \n",
       "Item ID Item Name                                                           \n",
       "92      Final Critic                                                 59.99  \n",
       "178     Oathbreaker, Last Hope of the Breaking Storm                 50.76  \n",
       "145     Fiery Glass Crusader                                         41.22  \n",
       "132     Persuasion                                                   28.99  \n",
       "108     Extraction, Quickblade Of Trembling Hands                    31.77  \n",
       "82      Nirvana                                                      44.10  \n",
       "75      Brutality Ivory Warmace                                      19.36  \n",
       "103     Singed Scalpel                                               34.80  \n",
       "34      Retribution Axe                                              17.76  \n",
       "37      Shadow Strike, Glory of Ending Hope                          25.28  "
      ]
     },
     "execution_count": 35,
     "metadata": {},
     "output_type": "execute_result"
    }
   ],
   "source": [
    "# Sort the purchase count column in descending order\n",
    "\n",
    "Sorted_pur_count_df = items_summary_df.sort_values([\"Purchase_count\"], ascending=False)\n",
    "Sorted_pur_count_df.head(10)"
   ]
  },
  {
   "cell_type": "markdown",
   "id": "f1cce782",
   "metadata": {},
   "source": [
    "# Most Popular Items\n",
    " \n",
    " - Retrieve the Item ID, Item Name, and Item Price columns\n",
    "\n",
    " - Group by Item ID and Item Name. Perform calculations to obtain purchase count, item price, and total purchase value\n",
    "\n",
    " - Create a summary data frame to hold the results\n",
    "\n",
    " - Sort the purchase count column in descending order\n",
    "\n",
    " - Optional: give the displayed data cleaner formatting\n",
    "\n",
    " - Display a preview of the summary data frame"
   ]
  },
  {
   "cell_type": "code",
   "execution_count": 36,
   "id": "8fab42db",
   "metadata": {},
   "outputs": [
    {
     "data": {
      "text/html": [
       "<div>\n",
       "<style scoped>\n",
       "    .dataframe tbody tr th:only-of-type {\n",
       "        vertical-align: middle;\n",
       "    }\n",
       "\n",
       "    .dataframe tbody tr th {\n",
       "        vertical-align: top;\n",
       "    }\n",
       "\n",
       "    .dataframe thead th {\n",
       "        text-align: right;\n",
       "    }\n",
       "</style>\n",
       "<table border=\"1\" class=\"dataframe\">\n",
       "  <thead>\n",
       "    <tr style=\"text-align: right;\">\n",
       "      <th></th>\n",
       "      <th></th>\n",
       "      <th>Purchase_count</th>\n",
       "      <th>Item_price</th>\n",
       "      <th>Total_purchase_value</th>\n",
       "    </tr>\n",
       "    <tr>\n",
       "      <th>Item ID</th>\n",
       "      <th>Item Name</th>\n",
       "      <th></th>\n",
       "      <th></th>\n",
       "      <th></th>\n",
       "    </tr>\n",
       "  </thead>\n",
       "  <tbody>\n",
       "    <tr>\n",
       "      <th>92</th>\n",
       "      <th>Final Critic</th>\n",
       "      <td>13</td>\n",
       "      <td>4.614615</td>\n",
       "      <td>59.99</td>\n",
       "    </tr>\n",
       "    <tr>\n",
       "      <th>178</th>\n",
       "      <th>Oathbreaker, Last Hope of the Breaking Storm</th>\n",
       "      <td>12</td>\n",
       "      <td>4.230000</td>\n",
       "      <td>50.76</td>\n",
       "    </tr>\n",
       "    <tr>\n",
       "      <th>145</th>\n",
       "      <th>Fiery Glass Crusader</th>\n",
       "      <td>9</td>\n",
       "      <td>4.580000</td>\n",
       "      <td>41.22</td>\n",
       "    </tr>\n",
       "    <tr>\n",
       "      <th>132</th>\n",
       "      <th>Persuasion</th>\n",
       "      <td>9</td>\n",
       "      <td>3.221111</td>\n",
       "      <td>28.99</td>\n",
       "    </tr>\n",
       "    <tr>\n",
       "      <th>108</th>\n",
       "      <th>Extraction, Quickblade Of Trembling Hands</th>\n",
       "      <td>9</td>\n",
       "      <td>3.530000</td>\n",
       "      <td>31.77</td>\n",
       "    </tr>\n",
       "  </tbody>\n",
       "</table>\n",
       "</div>"
      ],
      "text/plain": [
       "                                                      Purchase_count  \\\n",
       "Item ID Item Name                                                      \n",
       "92      Final Critic                                              13   \n",
       "178     Oathbreaker, Last Hope of the Breaking Storm              12   \n",
       "145     Fiery Glass Crusader                                       9   \n",
       "132     Persuasion                                                 9   \n",
       "108     Extraction, Quickblade Of Trembling Hands                  9   \n",
       "\n",
       "                                                      Item_price  \\\n",
       "Item ID Item Name                                                  \n",
       "92      Final Critic                                    4.614615   \n",
       "178     Oathbreaker, Last Hope of the Breaking Storm    4.230000   \n",
       "145     Fiery Glass Crusader                            4.580000   \n",
       "132     Persuasion                                      3.221111   \n",
       "108     Extraction, Quickblade Of Trembling Hands       3.530000   \n",
       "\n",
       "                                                      Total_purchase_value  \n",
       "Item ID Item Name                                                           \n",
       "92      Final Critic                                                 59.99  \n",
       "178     Oathbreaker, Last Hope of the Breaking Storm                 50.76  \n",
       "145     Fiery Glass Crusader                                         41.22  \n",
       "132     Persuasion                                                   28.99  \n",
       "108     Extraction, Quickblade Of Trembling Hands                    31.77  "
      ]
     },
     "execution_count": 36,
     "metadata": {},
     "output_type": "execute_result"
    }
   ],
   "source": [
    "### Most Popular Items\n",
    "\n",
    "  # Identify the 5 most popular items by purchase count, then list (in a table):\n",
    "  # Item ID\n",
    "  # Item Name\n",
    "  # Purchase Count\n",
    "  # Item Price\n",
    "  # Total Purchase Value\n",
    "\n",
    "# Sort table to show the top five spenders.\n",
    "\n",
    "top_five_spenders = items_summary_df.sort_values(\"Purchase_count\", ascending=False)\n",
    "top_five_spenders.head(5)"
   ]
  },
  {
   "cell_type": "markdown",
   "id": "0bee4068",
   "metadata": {},
   "source": [
    "# Most Profitable Items\n",
    " \n",
    " - Sort the above table by total purchase value in descending order\n",
    "\n",
    " - Optional: give the displayed data cleaner formatting\n",
    "\n",
    " - Display a preview of the data frame"
   ]
  },
  {
   "cell_type": "code",
   "execution_count": 37,
   "id": "5bd27e07",
   "metadata": {},
   "outputs": [
    {
     "data": {
      "text/html": [
       "<div>\n",
       "<style scoped>\n",
       "    .dataframe tbody tr th:only-of-type {\n",
       "        vertical-align: middle;\n",
       "    }\n",
       "\n",
       "    .dataframe tbody tr th {\n",
       "        vertical-align: top;\n",
       "    }\n",
       "\n",
       "    .dataframe thead th {\n",
       "        text-align: right;\n",
       "    }\n",
       "</style>\n",
       "<table border=\"1\" class=\"dataframe\">\n",
       "  <thead>\n",
       "    <tr style=\"text-align: right;\">\n",
       "      <th></th>\n",
       "      <th></th>\n",
       "      <th>Purchase_count</th>\n",
       "      <th>Item_price</th>\n",
       "      <th>Total_purchase_value</th>\n",
       "    </tr>\n",
       "    <tr>\n",
       "      <th>Item ID</th>\n",
       "      <th>Item Name</th>\n",
       "      <th></th>\n",
       "      <th></th>\n",
       "      <th></th>\n",
       "    </tr>\n",
       "  </thead>\n",
       "  <tbody>\n",
       "    <tr>\n",
       "      <th>92</th>\n",
       "      <th>Final Critic</th>\n",
       "      <td>13</td>\n",
       "      <td>4.614615</td>\n",
       "      <td>59.99</td>\n",
       "    </tr>\n",
       "    <tr>\n",
       "      <th>178</th>\n",
       "      <th>Oathbreaker, Last Hope of the Breaking Storm</th>\n",
       "      <td>12</td>\n",
       "      <td>4.230000</td>\n",
       "      <td>50.76</td>\n",
       "    </tr>\n",
       "    <tr>\n",
       "      <th>82</th>\n",
       "      <th>Nirvana</th>\n",
       "      <td>9</td>\n",
       "      <td>4.900000</td>\n",
       "      <td>44.10</td>\n",
       "    </tr>\n",
       "    <tr>\n",
       "      <th>145</th>\n",
       "      <th>Fiery Glass Crusader</th>\n",
       "      <td>9</td>\n",
       "      <td>4.580000</td>\n",
       "      <td>41.22</td>\n",
       "    </tr>\n",
       "    <tr>\n",
       "      <th>103</th>\n",
       "      <th>Singed Scalpel</th>\n",
       "      <td>8</td>\n",
       "      <td>4.350000</td>\n",
       "      <td>34.80</td>\n",
       "    </tr>\n",
       "  </tbody>\n",
       "</table>\n",
       "</div>"
      ],
      "text/plain": [
       "                                                      Purchase_count  \\\n",
       "Item ID Item Name                                                      \n",
       "92      Final Critic                                              13   \n",
       "178     Oathbreaker, Last Hope of the Breaking Storm              12   \n",
       "82      Nirvana                                                    9   \n",
       "145     Fiery Glass Crusader                                       9   \n",
       "103     Singed Scalpel                                             8   \n",
       "\n",
       "                                                      Item_price  \\\n",
       "Item ID Item Name                                                  \n",
       "92      Final Critic                                    4.614615   \n",
       "178     Oathbreaker, Last Hope of the Breaking Storm    4.230000   \n",
       "82      Nirvana                                         4.900000   \n",
       "145     Fiery Glass Crusader                            4.580000   \n",
       "103     Singed Scalpel                                  4.350000   \n",
       "\n",
       "                                                      Total_purchase_value  \n",
       "Item ID Item Name                                                           \n",
       "92      Final Critic                                                 59.99  \n",
       "178     Oathbreaker, Last Hope of the Breaking Storm                 50.76  \n",
       "82      Nirvana                                                      44.10  \n",
       "145     Fiery Glass Crusader                                         41.22  \n",
       "103     Singed Scalpel                                               34.80  "
      ]
     },
     "execution_count": 37,
     "metadata": {},
     "output_type": "execute_result"
    }
   ],
   "source": [
    "### Most Profitable Items\n",
    "\n",
    "  #Identify the 5 most profitable items by total purchase value, then list (in a table):\n",
    "  # Item ID\n",
    "  # Item Name\n",
    "  # Purchase Count\n",
    "  # Item Price\n",
    "  # Total Purchase Value\n",
    "\n",
    "# Sort table to show the top five spenders.\n",
    "\n",
    "Most_profitable_items = items_summary_df.sort_values(\"Total_purchase_value\", ascending=False)\n",
    "\n",
    "Most_profitable_items.head(5)"
   ]
  },
  {
   "cell_type": "markdown",
   "id": "043a52b2",
   "metadata": {},
   "source": [
    "# Three observable trends\n",
    "\n",
    " - No one have spent more than $20.00 in the game.\n",
    " - Most in app purchases were made  20 -24 years old.\n",
    " - Most popular items prices are below the average item price."
   ]
  },
  {
   "cell_type": "code",
   "execution_count": null,
   "id": "dc15a87c",
   "metadata": {},
   "outputs": [],
   "source": []
  }
 ],
 "metadata": {
  "kernelspec": {
   "display_name": "Python 3 (ipykernel)",
   "language": "python",
   "name": "python3"
  },
  "language_info": {
   "codemirror_mode": {
    "name": "ipython",
    "version": 3
   },
   "file_extension": ".py",
   "mimetype": "text/x-python",
   "name": "python",
   "nbconvert_exporter": "python",
   "pygments_lexer": "ipython3",
   "version": "3.9.7"
  }
 },
 "nbformat": 4,
 "nbformat_minor": 5
}
